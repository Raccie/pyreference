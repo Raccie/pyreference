{
 "cells": [
  {
   "cell_type": "code",
   "execution_count": 24,
   "metadata": {
    "collapsed": true
   },
   "outputs": [],
   "source": [
    "from timeit import timeit"
   ]
  },
  {
   "cell_type": "markdown",
   "source": [
    "## Cache\n",
    "You can cache the results of a function or method depending on the input.\n",
    "\n",
    "The `@cache` decorator caches every result.\n",
    "The `@lru_cache` decorator caches the _L_east _R_ecently _U_sed and takes a size parameter,\n",
    "indicating how many results are cached at once before deleting the least used return."
   ],
   "metadata": {
    "collapsed": false
   }
  },
  {
   "cell_type": "code",
   "execution_count": 31,
   "outputs": [
    {
     "name": "stdout",
     "output_type": "stream",
     "text": [
      "1.9948670320009114\n",
      "0.0334765570005402\n",
      "0.03308480700070504\n"
     ]
    }
   ],
   "source": [
    "from functools import cache, lru_cache\n",
    "\n",
    "def fib(n):\n",
    "    if n <= 1:\n",
    "        return n\n",
    "    return fib(n-1) + fib(n-2)\n",
    "\n",
    "@cache\n",
    "def cache_fib(n):\n",
    "    return fib(n)\n",
    "\n",
    "@lru_cache(5)\n",
    "def lru_cache_fib(n):\n",
    "    return fib(n)\n",
    "\n",
    "print(timeit(lambda: fib(25), number=50))\n",
    "print(timeit(lambda: cache_fib(25), number=50))\n",
    "print(timeit(lambda: lru_cache_fib(25), number=50))\n"
   ],
   "metadata": {
    "collapsed": false
   }
  },
  {
   "cell_type": "markdown",
   "source": [
    "Another great caching decorator is `functools.cached_property`. It combines the benefits of `@property` and `@cache` into one single decorator. Although you have to be careful, since the cached property does not look at the state of the class, so you have to clear the cache manually if you know something inside the object changed."
   ],
   "metadata": {
    "collapsed": false
   }
  },
  {
   "cell_type": "code",
   "execution_count": 32,
   "outputs": [
    {
     "name": "stdout",
     "output_type": "stream",
     "text": [
      "1.0020449720032047\n",
      "0.000667869986500591\n",
      "1.0029271800012793\n"
     ]
    }
   ],
   "source": [
    "from functools import cached_property\n",
    "import time\n",
    "class A:\n",
    "    def __init__(self):\n",
    "        self._foo = 1\n",
    "\n",
    "    @cached_property\n",
    "    def foo(self):\n",
    "        time.sleep(1)\n",
    "        return self._foo\n",
    "\n",
    "a = A()\n",
    "print(timeit(lambda: a.foo, number=3000))\n",
    "\n",
    "a._foo = 2  # evil\n",
    "print(timeit(lambda: a.foo, number=3000))\n",
    "\n",
    "del a.foo\n",
    "print(timeit(lambda: a.foo, number=3000))"
   ],
   "metadata": {
    "collapsed": false
   }
  },
  {
   "cell_type": "markdown",
   "source": [
    "## Single dispatch\n",
    "\n",
    "With `functools.singledispatch` you can actually have generic functions, a.k.a. function overloading!\n",
    "Just define a function and decorate it with `@singledispatch`.\n",
    "Define overloading functions by adding the `register` decorator.\n"
   ],
   "metadata": {
    "collapsed": false
   }
  },
  {
   "cell_type": "code",
   "execution_count": 29,
   "outputs": [
    {
     "name": "stdout",
     "output_type": "stream",
     "text": [
      "Strength in numbers, eh? 49\n",
      "Enumerate this:\n",
      "0 foo\n",
      "1 bar\n"
     ]
    }
   ],
   "source": [
    "from functools import singledispatch\n",
    "@singledispatch\n",
    "def fun(arg, verbose=False):\n",
    "    if verbose:\n",
    "        print(\"Let me just say,\", end=\" \")\n",
    "    print(arg)\n",
    "\n",
    "@fun.register\n",
    "def _(arg: int, verbose=False):\n",
    "    if verbose:\n",
    "        print(\"Strength in numbers, eh?\", end=\" \")\n",
    "    print(arg)\n",
    "\n",
    "@fun.register\n",
    "def _(arg: list, verbose=False):\n",
    "    if verbose:\n",
    "        print(\"Enumerate this:\")\n",
    "    for i, elem in enumerate(arg):\n",
    "        print(i, elem)\n",
    "\n",
    "fun(69, True)\n",
    "fun(['foo', 'bar'], True)\n"
   ],
   "metadata": {
    "collapsed": false
   }
  },
  {
   "cell_type": "markdown",
   "source": [
    "Note that this best works with type overloading.\n",
    "Overloading with a different number of arguments only works when not interfering with any other overload types.\n",
    "Also my editor was not happy about this, so it's best to avoid it."
   ],
   "metadata": {
    "collapsed": false
   }
  },
  {
   "cell_type": "code",
   "execution_count": 2,
   "outputs": [
    {
     "name": "stdout",
     "output_type": "stream",
     "text": [
      "lol lmao\n",
      "3\n",
      "1.0 2.0 3.0\n"
     ]
    }
   ],
   "source": [
    "from functools import singledispatch\n",
    "\n",
    "@singledispatch\n",
    "def fun(arg1, arg2):\n",
    "    print(arg1, arg2)\n",
    "\n",
    "@fun.register\n",
    "def _(arg1: int, arg2: int):\n",
    "    print(arg1 + arg2)\n",
    "\n",
    "@fun.register\n",
    "def _(arg1: float, arg2: float, arg3: float):\n",
    "    print(arg1, arg2, arg3)\n",
    "\n",
    "fun('lol', 'lmao')\n",
    "fun(1, 2)\n",
    "fun(1., 2., 3.)"
   ],
   "metadata": {
    "collapsed": false
   }
  },
  {
   "cell_type": "markdown",
   "source": [
    "## Reduce\n",
    "Turn an iterable into a single value by some condition"
   ],
   "metadata": {
    "collapsed": false
   }
  },
  {
   "cell_type": "code",
   "execution_count": 32,
   "outputs": [
    {
     "name": "stdout",
     "output_type": "stream",
     "text": [
      "10\n"
     ]
    },
    {
     "data": {
      "text/plain": "6"
     },
     "execution_count": 32,
     "metadata": {},
     "output_type": "execute_result"
    }
   ],
   "source": [
    "from functools import reduce\n",
    "\n",
    "# adding all values\n",
    "my_sum = reduce(lambda x, y: x + y, [1, 2, 3, 4])\n",
    "print(my_sum)\n",
    "\n",
    "# find the biggest number in a list\n",
    "reduce(lambda x, y: y if y > x else x, [0, 3, 2, 5, 4, 5, 6, 2])\n"
   ],
   "metadata": {
    "collapsed": false
   }
  }
 ],
 "metadata": {
  "kernelspec": {
   "display_name": "Python 3",
   "language": "python",
   "name": "python3"
  },
  "language_info": {
   "codemirror_mode": {
    "name": "ipython",
    "version": 2
   },
   "file_extension": ".py",
   "mimetype": "text/x-python",
   "name": "python",
   "nbconvert_exporter": "python",
   "pygments_lexer": "ipython2",
   "version": "2.7.6"
  }
 },
 "nbformat": 4,
 "nbformat_minor": 0
}
