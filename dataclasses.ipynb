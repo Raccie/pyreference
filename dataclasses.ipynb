{
 "cells": [
  {
   "cell_type": "markdown",
   "source": [
    "## Dataclasses\n",
    "\n",
    "Dataclasses are awesome for creating classes that mainly contain data and not much logic. It can implement sensible default methods for most its attributes.\n",
    "\n",
    "Dataclasses also use slots, meaning their attributes are known at compile time which improves memory usage."
   ],
   "metadata": {
    "collapsed": false
   }
  },
  {
   "cell_type": "code",
   "execution_count": 1,
   "outputs": [],
   "source": [
    "from dataclasses import dataclass\n",
    "\n",
    "@dataclass\n",
    "class Foo:\n",
    "    bar: int\n",
    "    baz: str"
   ],
   "metadata": {
    "collapsed": false
   }
  },
  {
   "cell_type": "code",
   "execution_count": 3,
   "outputs": [
    {
     "name": "stdout",
     "output_type": "stream",
     "text": [
      "Foo(bar=3, baz='hey you')\n"
     ]
    }
   ],
   "source": [
    "# default constructor (and default string representation)\n",
    "print(Foo(bar=3, baz='hey you'))\n"
   ],
   "metadata": {
    "collapsed": false
   }
  },
  {
   "cell_type": "markdown",
   "source": [
    "## Pydantic\n",
    "Pydantic is a validation library that can have similar advantages to using dataclasses"
   ],
   "metadata": {
    "collapsed": false
   }
  },
  {
   "cell_type": "code",
   "execution_count": 11,
   "outputs": [
    {
     "name": "stdout",
     "output_type": "stream",
     "text": [
      "Collecting pydantic\r\n",
      "  Downloading pydantic-1.10.2-cp310-cp310-macosx_10_9_x86_64.whl (3.1 MB)\r\n",
      "     |████████████████████████████████| 3.1 MB 3.1 MB/s            \r\n",
      "\u001B[?25hCollecting typing-extensions>=4.1.0\r\n",
      "  Downloading typing_extensions-4.4.0-py3-none-any.whl (26 kB)\r\n",
      "Installing collected packages: typing-extensions, pydantic\r\n",
      "Successfully installed pydantic-1.10.2 typing-extensions-4.4.0\r\n",
      "\u001B[33mWARNING: You are using pip version 21.3.1; however, version 22.2.2 is available.\r\n",
      "You should consider upgrading via the '/Users/zymen/PycharmProjects/python_reference/venv/bin/python -m pip install --upgrade pip' command.\u001B[0m\r\n"
     ]
    }
   ],
   "source": [
    "!pip install pydantic"
   ],
   "metadata": {
    "collapsed": false
   }
  },
  {
   "cell_type": "code",
   "execution_count": 12,
   "outputs": [],
   "source": [
    "from pydantic import BaseModel"
   ],
   "metadata": {
    "collapsed": false
   }
  },
  {
   "cell_type": "code",
   "execution_count": 13,
   "outputs": [],
   "source": [
    "class Foo(BaseModel):\n",
    "    bar: int\n",
    "    baz: str"
   ],
   "metadata": {
    "collapsed": false
   }
  },
  {
   "cell_type": "code",
   "execution_count": 15,
   "outputs": [
    {
     "name": "stdout",
     "output_type": "stream",
     "text": [
      "bar=3 baz='hey you'\n"
     ]
    }
   ],
   "source": [
    "# default constructor and string representation\n",
    "print(Foo(bar=3, baz='hey you'))"
   ],
   "metadata": {
    "collapsed": false
   }
  },
  {
   "cell_type": "code",
   "execution_count": 18,
   "outputs": [
    {
     "name": "stdout",
     "output_type": "stream",
     "text": [
      "bar=3984 baz='420'\n"
     ]
    }
   ],
   "source": [
    "# pydantic also automatically casts your attributes at assignment so that you never have a type mismatch inside your model\n",
    "print(Foo(bar='3984', baz=420))"
   ],
   "metadata": {
    "collapsed": false
   }
  },
  {
   "cell_type": "code",
   "execution_count": 19,
   "outputs": [
    {
     "ename": "ValidationError",
     "evalue": "2 validation errors for Foo\nbar\n  value is not a valid integer (type=type_error.integer)\nbaz\n  field required (type=value_error.missing)",
     "output_type": "error",
     "traceback": [
      "\u001B[0;31m---------------------------------------------------------------------------\u001B[0m",
      "\u001B[0;31mValidationError\u001B[0m                           Traceback (most recent call last)",
      "Cell \u001B[0;32mIn [19], line 1\u001B[0m\n\u001B[0;32m----> 1\u001B[0m \u001B[38;5;28mprint\u001B[39m(Foo(bar\u001B[38;5;241m=\u001B[39m\u001B[38;5;124m'\u001B[39m\u001B[38;5;124mhello\u001B[39m\u001B[38;5;124m'\u001B[39m))\n",
      "File \u001B[0;32m~/PycharmProjects/python_reference/venv/lib/python3.10/site-packages/pydantic/main.py:342\u001B[0m, in \u001B[0;36mpydantic.main.BaseModel.__init__\u001B[0;34m()\u001B[0m\n",
      "\u001B[0;31mValidationError\u001B[0m: 2 validation errors for Foo\nbar\n  value is not a valid integer (type=type_error.integer)\nbaz\n  field required (type=value_error.missing)"
     ]
    }
   ],
   "source": [
    "# also great error messages in case pydantic can't cast your value or you forgot to set an attribute\n",
    "print(Foo(bar='hello'))"
   ],
   "metadata": {
    "collapsed": false
   }
  },
  {
   "cell_type": "code",
   "execution_count": 22,
   "outputs": [
    {
     "data": {
      "text/plain": "Foo(bar=420, baz='amogus')"
     },
     "execution_count": 22,
     "metadata": {},
     "output_type": "execute_result"
    }
   ],
   "source": [
    "# great for parsing\n",
    "Foo.parse_file('test.json')"
   ],
   "metadata": {
    "collapsed": false
   }
  },
  {
   "cell_type": "markdown",
   "source": [
    "## attrs\n",
    "attrs is just like dataclasses but with more functionality"
   ],
   "metadata": {
    "collapsed": false
   }
  },
  {
   "cell_type": "code",
   "execution_count": 24,
   "outputs": [
    {
     "name": "stdout",
     "output_type": "stream",
     "text": [
      "Requirement already satisfied: attrs in ./venv/lib/python3.10/site-packages (22.1.0)\r\n",
      "\u001B[33mWARNING: You are using pip version 21.3.1; however, version 22.2.2 is available.\r\n",
      "You should consider upgrading via the '/Users/zymen/PycharmProjects/python_reference/venv/bin/python -m pip install --upgrade pip' command.\u001B[0m\r\n"
     ]
    }
   ],
   "source": [
    "!pip install attrs"
   ],
   "metadata": {
    "collapsed": false
   }
  },
  {
   "cell_type": "code",
   "execution_count": 25,
   "outputs": [],
   "source": [
    "from attrs import define, field\n",
    "\n",
    "@define\n",
    "class Foo:\n",
    "    bar: int\n",
    "    baz: str"
   ],
   "metadata": {
    "collapsed": false
   }
  },
  {
   "cell_type": "code",
   "execution_count": 28,
   "outputs": [
    {
     "name": "stdout",
     "output_type": "stream",
     "text": [
      "Help on function __init__ in module __main__:\n",
      "\n",
      "__init__(self, *, bar: int) -> None\n",
      "    Method generated by attrs for class Foo.\n",
      "\n"
     ]
    }
   ],
   "source": [
    "# attrs allows control over how attributes appear in the __init__ function\n",
    "\n",
    "@define\n",
    "class Foo:\n",
    "    bar: int =  field(kw_only=True)  # bar is a keyword argument in the initializer\n",
    "    baz: str = field(init=False, default='lmao')  # baz is not part of the initializer\n",
    "\n",
    "help(Foo.__init__)"
   ],
   "metadata": {
    "collapsed": false
   }
  }
 ],
 "metadata": {
  "kernelspec": {
   "display_name": "Python 3",
   "language": "python",
   "name": "python3"
  },
  "language_info": {
   "codemirror_mode": {
    "name": "ipython",
    "version": 2
   },
   "file_extension": ".py",
   "mimetype": "text/x-python",
   "name": "python",
   "nbconvert_exporter": "python",
   "pygments_lexer": "ipython2",
   "version": "2.7.6"
  }
 },
 "nbformat": 4,
 "nbformat_minor": 0
}
